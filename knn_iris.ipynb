{
 "cells": [
  {
   "cell_type": "code",
   "execution_count": 168,
   "metadata": {},
   "outputs": [],
   "source": [
    "import csv\n",
    "import random\n",
    "import math\n",
    "import operator\n",
    "import numpy as np\n",
    "import matplotlib.pyplot as plt"
   ]
  },
  {
   "cell_type": "code",
   "execution_count": 169,
   "metadata": {},
   "outputs": [],
   "source": [
    "def load_dataset(filename, split):\n",
    "    learn_data = []\n",
    "    test_data = []\n",
    "    with open(filename, 'r') as file:\n",
    "        lines = csv.reader(file)\n",
    "        dataset = list(lines)\n",
    "        for x in range(len(dataset) - 1):\n",
    "            for y in range(4):\n",
    "                dataset[x][y] = float(dataset[x][y])\n",
    "            if random.random() < split:\n",
    "                learn_data.append(dataset[x])\n",
    "            else:\n",
    "                test_data.append(dataset[x])\n",
    "\n",
    "    return learn_data, test_data"
   ]
  },
  {
   "cell_type": "code",
   "execution_count": 170,
   "metadata": {},
   "outputs": [],
   "source": [
    "def euclid(num1, num2, length):\n",
    "    distance = 0\n",
    "    for x in range(length):\n",
    "        distance += np.power((num1[x] - num2[x]),2)\n",
    "    return math.sqrt(distance)"
   ]
  },
  {
   "cell_type": "code",
   "execution_count": 171,
   "metadata": {},
   "outputs": [],
   "source": [
    "def get_neighbors(learn_data, test_instance, k, cosine_d=False):\n",
    "    distances = []\n",
    "    length = len(test_instance) - 1\n",
    "    for x in range(len(learn_data)):\n",
    "            dist = euclid(test_instance, learn_data[x], length)\n",
    "            distances.append((learn_data[x], dist))\n",
    "    distances.sort(key=operator.itemgetter(1))\n",
    "    neighbors = []\n",
    "    for x in range(k):\n",
    "        neighbors.append(distances[x][0])\n",
    "    return neighbors"
   ]
  },
  {
   "cell_type": "code",
   "execution_count": 172,
   "metadata": {},
   "outputs": [],
   "source": [
    "def get_response(neighbors):\n",
    "    class_votes = {}\n",
    "    for x in range(len(neighbors)):\n",
    "        response = neighbors[x][-1]\n",
    "        if response in class_votes:\n",
    "            class_votes[response] += 1\n",
    "        else:\n",
    "            class_votes[response] = 1\n",
    "    sorted_votes = sorted(class_votes.items(), key=operator.itemgetter(1), reverse=True)\n",
    "    return sorted_votes[0][0]"
   ]
  },
  {
   "cell_type": "code",
   "execution_count": 173,
   "metadata": {},
   "outputs": [],
   "source": [
    "def get_accuracy(test_data, predictions):\n",
    "    correct = 0\n",
    "    for x in range(len(test_data)):\n",
    "        if test_data[x][-1] == predictions[x]:\n",
    "            correct += 1\n",
    "    return (correct / float(len(test_data))) * 100.0"
   ]
  },
  {
   "cell_type": "code",
   "execution_count": 174,
   "metadata": {},
   "outputs": [
    {
     "name": "stdout",
     "output_type": "stream",
     "text": [
      "learn_data=99\n",
      "test_data=50\n",
      "'Iris-setosa' vs 'Iris-setosa'\n",
      "'Iris-setosa' vs 'Iris-setosa'\n",
      "'Iris-setosa' vs 'Iris-setosa'\n",
      "'Iris-setosa' vs 'Iris-setosa'\n",
      "'Iris-setosa' vs 'Iris-setosa'\n",
      "'Iris-setosa' vs 'Iris-setosa'\n",
      "'Iris-setosa' vs 'Iris-setosa'\n",
      "'Iris-setosa' vs 'Iris-setosa'\n",
      "'Iris-setosa' vs 'Iris-setosa'\n",
      "'Iris-setosa' vs 'Iris-setosa'\n",
      "'Iris-setosa' vs 'Iris-setosa'\n",
      "'Iris-setosa' vs 'Iris-setosa'\n",
      "'Iris-setosa' vs 'Iris-setosa'\n",
      "'Iris-setosa' vs 'Iris-setosa'\n",
      "'Iris-setosa' vs 'Iris-setosa'\n",
      "'Iris-setosa' vs 'Iris-setosa'\n",
      "'Iris-setosa' vs 'Iris-setosa'\n",
      "'Iris-versicolor' vs 'Iris-versicolor'\n",
      "'Iris-versicolor' vs 'Iris-versicolor'\n",
      "'Iris-versicolor' vs 'Iris-versicolor'\n",
      "'Iris-versicolor' vs 'Iris-versicolor'\n",
      "'Iris-versicolor' vs 'Iris-versicolor'\n",
      "'Iris-versicolor' vs 'Iris-versicolor'\n",
      "'Iris-versicolor' vs 'Iris-versicolor'\n",
      "'Iris-versicolor' vs 'Iris-versicolor'\n",
      "'Iris-versicolor' vs 'Iris-versicolor'\n",
      "'Iris-virginica' vs 'Iris-versicolor'\n",
      "'Iris-versicolor' vs 'Iris-versicolor'\n",
      "'Iris-versicolor' vs 'Iris-versicolor'\n",
      "'Iris-versicolor' vs 'Iris-versicolor'\n",
      "'Iris-versicolor' vs 'Iris-versicolor'\n",
      "'Iris-versicolor' vs 'Iris-versicolor'\n",
      "'Iris-versicolor' vs 'Iris-versicolor'\n",
      "'Iris-versicolor' vs 'Iris-versicolor'\n",
      "'Iris-versicolor' vs 'Iris-versicolor'\n",
      "'Iris-versicolor' vs 'Iris-versicolor'\n",
      "'Iris-virginica' vs 'Iris-virginica'\n",
      "'Iris-virginica' vs 'Iris-virginica'\n",
      "'Iris-versicolor' vs 'Iris-virginica'\n",
      "'Iris-virginica' vs 'Iris-virginica'\n",
      "'Iris-virginica' vs 'Iris-virginica'\n",
      "'Iris-virginica' vs 'Iris-virginica'\n",
      "'Iris-virginica' vs 'Iris-virginica'\n",
      "'Iris-versicolor' vs 'Iris-virginica'\n",
      "'Iris-virginica' vs 'Iris-virginica'\n",
      "'Iris-virginica' vs 'Iris-virginica'\n",
      "'Iris-virginica' vs 'Iris-virginica'\n",
      "'Iris-virginica' vs 'Iris-virginica'\n",
      "'Iris-virginica' vs 'Iris-virginica'\n",
      "'Iris-virginica' vs 'Iris-virginica'\n",
      "94.0%\n"
     ]
    },
    {
     "data": {
      "image/png": "[encoded data removed]",
      "text/plain": [
       "<Figure size 432x288 with 1 Axes>"
      ]
     },
     "metadata": {
      "needs_background": "light"
     },
     "output_type": "display_data"
    }
   ],
   "source": [
    "def main():\n",
    "    split = 0.67\n",
    "    learn_data, test_data = load_dataset('iris.data', split)\n",
    "    print('learn_data=' + repr(len(learn_data)))\n",
    "    print('test_data=' + repr(len(test_data)))\n",
    "    predictions = []\n",
    "    k = 3\n",
    "    for x in range(len(test_data)):\n",
    "        neighbors = get_neighbors(learn_data, test_data[x], k)\n",
    "        result = get_response(neighbors)\n",
    "        predictions.append(result)\n",
    "        plt.scatter(predictions[x],predictions[x])\n",
    "        print(repr(result) + ' vs ' + repr(test_data[x][-1]))\n",
    "    accuracy = get_accuracy(test_data, predictions)\n",
    "    print(repr(accuracy) + '%')\n",
    "main()"
   ]
  },
  {
   "cell_type": "code",
   "execution_count": null,
   "metadata": {},
   "outputs": [],
   "source": []
  },
  {
   "cell_type": "code",
   "execution_count": null,
   "metadata": {},
   "outputs": [],
   "source": []
  }
 ],
 "metadata": {
  "kernelspec": {
   "display_name": "Python 3",
   "language": "python",
   "name": "python3"
  },
  "language_info": {
   "codemirror_mode": {
    "name": "ipython",
    "version": 3
   },
   "file_extension": ".py",
   "mimetype": "text/x-python",
   "name": "python",
   "nbconvert_exporter": "python",
   "pygments_lexer": "ipython3",
   "version": "3.7.3"
  }
 },
 "nbformat": 4,
 "nbformat_minor": 4
}
